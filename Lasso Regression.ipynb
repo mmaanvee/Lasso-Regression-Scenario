{
 "cells": [
  {
   "cell_type": "code",
   "execution_count": 1,
   "id": "7ceb2a65",
   "metadata": {},
   "outputs": [],
   "source": [
    "import pandas as pd\n",
    "import matplotlib as plt\n",
    "import matplotlib.pyplot as plt\n",
    "import numpy as np\n",
    "import seaborn as sns\n",
    "from sklearn.model_selection import train_test_split,KFold,cross_val_score\n",
    "from sklearn.linear_model import LinearRegression\n",
    "from sklearn.metrics import mean_squared_error, r2_score,make_scorer\n",
    "from sklearn.preprocessing import StandardScaler\n",
    "from sklearn import linear_model\n",
    "from sklearn.linear_model import ElasticNet, Lasso,  BayesianRidge, LassoLarsIC\n",
    "from sklearn.preprocessing import StandardScaler\n",
    "import statsmodels.api as sm"
   ]
  },
  {
   "cell_type": "code",
   "execution_count": 3,
   "id": "16fb0bc1",
   "metadata": {},
   "outputs": [],
   "source": [
    "# reading the file \n",
    "house_df = pd.read_csv(\"Melbourne_housing.csv\")"
   ]
  },
  {
   "cell_type": "code",
   "execution_count": 4,
   "id": "d7895026",
   "metadata": {},
   "outputs": [
    {
     "data": {
      "text/html": [
       "<div>\n",
       "<style scoped>\n",
       "    .dataframe tbody tr th:only-of-type {\n",
       "        vertical-align: middle;\n",
       "    }\n",
       "\n",
       "    .dataframe tbody tr th {\n",
       "        vertical-align: top;\n",
       "    }\n",
       "\n",
       "    .dataframe thead th {\n",
       "        text-align: right;\n",
       "    }\n",
       "</style>\n",
       "<table border=\"1\" class=\"dataframe\">\n",
       "  <thead>\n",
       "    <tr style=\"text-align: right;\">\n",
       "      <th></th>\n",
       "      <th>Suburb</th>\n",
       "      <th>Address</th>\n",
       "      <th>Rooms</th>\n",
       "      <th>Type</th>\n",
       "      <th>Price</th>\n",
       "      <th>Method</th>\n",
       "      <th>SellerG</th>\n",
       "      <th>Date</th>\n",
       "      <th>Distance</th>\n",
       "      <th>Postcode</th>\n",
       "      <th>...</th>\n",
       "      <th>Bathroom</th>\n",
       "      <th>Car</th>\n",
       "      <th>Landsize</th>\n",
       "      <th>BuildingArea</th>\n",
       "      <th>YearBuilt</th>\n",
       "      <th>CouncilArea</th>\n",
       "      <th>Lattitude</th>\n",
       "      <th>Longtitude</th>\n",
       "      <th>Regionname</th>\n",
       "      <th>Propertycount</th>\n",
       "    </tr>\n",
       "  </thead>\n",
       "  <tbody>\n",
       "    <tr>\n",
       "      <th>0</th>\n",
       "      <td>Thornbury</td>\n",
       "      <td>7/67 Pender St</td>\n",
       "      <td>2</td>\n",
       "      <td>u</td>\n",
       "      <td>438000.0</td>\n",
       "      <td>SP</td>\n",
       "      <td>Love</td>\n",
       "      <td>22/08/2016</td>\n",
       "      <td>6.5</td>\n",
       "      <td>3071</td>\n",
       "      <td>...</td>\n",
       "      <td>1.0</td>\n",
       "      <td>1.0</td>\n",
       "      <td>0.0</td>\n",
       "      <td>66.0</td>\n",
       "      <td>1970.0</td>\n",
       "      <td>Darebin City Council</td>\n",
       "      <td>-37.7541</td>\n",
       "      <td>145.0088</td>\n",
       "      <td>Northern Metropolitan</td>\n",
       "      <td>8870</td>\n",
       "    </tr>\n",
       "    <tr>\n",
       "      <th>1</th>\n",
       "      <td>Coburg</td>\n",
       "      <td>32 Rose St</td>\n",
       "      <td>2</td>\n",
       "      <td>h</td>\n",
       "      <td>901000.0</td>\n",
       "      <td>S</td>\n",
       "      <td>Peter</td>\n",
       "      <td>27/06/2016</td>\n",
       "      <td>7.8</td>\n",
       "      <td>3058</td>\n",
       "      <td>...</td>\n",
       "      <td>1.0</td>\n",
       "      <td>1.0</td>\n",
       "      <td>545.0</td>\n",
       "      <td>107.0</td>\n",
       "      <td>1940.0</td>\n",
       "      <td>Darebin City Council</td>\n",
       "      <td>-37.7445</td>\n",
       "      <td>144.9471</td>\n",
       "      <td>Northern Metropolitan</td>\n",
       "      <td>11204</td>\n",
       "    </tr>\n",
       "    <tr>\n",
       "      <th>2</th>\n",
       "      <td>Bentleigh East</td>\n",
       "      <td>2/25 Brooks St</td>\n",
       "      <td>3</td>\n",
       "      <td>u</td>\n",
       "      <td>800000.0</td>\n",
       "      <td>S</td>\n",
       "      <td>Woodards</td>\n",
       "      <td>28/05/2016</td>\n",
       "      <td>13.9</td>\n",
       "      <td>3165</td>\n",
       "      <td>...</td>\n",
       "      <td>2.0</td>\n",
       "      <td>2.0</td>\n",
       "      <td>261.0</td>\n",
       "      <td>NaN</td>\n",
       "      <td>NaN</td>\n",
       "      <td>Glen Eira City Council</td>\n",
       "      <td>-37.9163</td>\n",
       "      <td>145.0779</td>\n",
       "      <td>Southern Metropolitan</td>\n",
       "      <td>10969</td>\n",
       "    </tr>\n",
       "    <tr>\n",
       "      <th>3</th>\n",
       "      <td>Templestowe Lower</td>\n",
       "      <td>2/35 John St</td>\n",
       "      <td>3</td>\n",
       "      <td>t</td>\n",
       "      <td>1155000.0</td>\n",
       "      <td>S</td>\n",
       "      <td>Jellis</td>\n",
       "      <td>25/11/2017</td>\n",
       "      <td>12.4</td>\n",
       "      <td>3107</td>\n",
       "      <td>...</td>\n",
       "      <td>NaN</td>\n",
       "      <td>NaN</td>\n",
       "      <td>NaN</td>\n",
       "      <td>NaN</td>\n",
       "      <td>NaN</td>\n",
       "      <td>Manningham City Council</td>\n",
       "      <td>NaN</td>\n",
       "      <td>NaN</td>\n",
       "      <td>Eastern Metropolitan</td>\n",
       "      <td>5420</td>\n",
       "    </tr>\n",
       "    <tr>\n",
       "      <th>4</th>\n",
       "      <td>South Yarra</td>\n",
       "      <td>1/35 Marne St</td>\n",
       "      <td>3</td>\n",
       "      <td>u</td>\n",
       "      <td>1630000.0</td>\n",
       "      <td>PI</td>\n",
       "      <td>Jellis</td>\n",
       "      <td>10/9/2016</td>\n",
       "      <td>3.3</td>\n",
       "      <td>3141</td>\n",
       "      <td>...</td>\n",
       "      <td>1.0</td>\n",
       "      <td>1.0</td>\n",
       "      <td>0.0</td>\n",
       "      <td>NaN</td>\n",
       "      <td>NaN</td>\n",
       "      <td>Melbourne City Council</td>\n",
       "      <td>-37.8359</td>\n",
       "      <td>144.9839</td>\n",
       "      <td>Southern Metropolitan</td>\n",
       "      <td>14887</td>\n",
       "    </tr>\n",
       "  </tbody>\n",
       "</table>\n",
       "<p>5 rows × 21 columns</p>\n",
       "</div>"
      ],
      "text/plain": [
       "              Suburb         Address  Rooms Type      Price Method   SellerG  \\\n",
       "0          Thornbury  7/67 Pender St      2    u   438000.0     SP      Love   \n",
       "1             Coburg      32 Rose St      2    h   901000.0      S     Peter   \n",
       "2     Bentleigh East  2/25 Brooks St      3    u   800000.0      S  Woodards   \n",
       "3  Templestowe Lower    2/35 John St      3    t  1155000.0      S    Jellis   \n",
       "4        South Yarra   1/35 Marne St      3    u  1630000.0     PI    Jellis   \n",
       "\n",
       "         Date  Distance  Postcode  ...  Bathroom  Car  Landsize  BuildingArea  \\\n",
       "0  22/08/2016       6.5      3071  ...       1.0  1.0       0.0          66.0   \n",
       "1  27/06/2016       7.8      3058  ...       1.0  1.0     545.0         107.0   \n",
       "2  28/05/2016      13.9      3165  ...       2.0  2.0     261.0           NaN   \n",
       "3  25/11/2017      12.4      3107  ...       NaN  NaN       NaN           NaN   \n",
       "4   10/9/2016       3.3      3141  ...       1.0  1.0       0.0           NaN   \n",
       "\n",
       "   YearBuilt              CouncilArea Lattitude  Longtitude  \\\n",
       "0     1970.0     Darebin City Council  -37.7541    145.0088   \n",
       "1     1940.0     Darebin City Council  -37.7445    144.9471   \n",
       "2        NaN   Glen Eira City Council  -37.9163    145.0779   \n",
       "3        NaN  Manningham City Council       NaN         NaN   \n",
       "4        NaN   Melbourne City Council  -37.8359    144.9839   \n",
       "\n",
       "              Regionname Propertycount  \n",
       "0  Northern Metropolitan          8870  \n",
       "1  Northern Metropolitan         11204  \n",
       "2  Southern Metropolitan         10969  \n",
       "3   Eastern Metropolitan          5420  \n",
       "4  Southern Metropolitan         14887  \n",
       "\n",
       "[5 rows x 21 columns]"
      ]
     },
     "execution_count": 4,
     "metadata": {},
     "output_type": "execute_result"
    }
   ],
   "source": [
    "house_df.head() #exploring the data"
   ]
  },
  {
   "cell_type": "markdown",
   "id": "2a0c6ac0",
   "metadata": {},
   "source": [
    "## **Data Exploration and Visualization** \n",
    "\n",
    "Cleaning the data to drop Building Area since it is missing 62% of the data for the column is missing. Here, I will also drop NAs for Price and deal with the missing values. "
   ]
  },
  {
   "cell_type": "code",
   "execution_count": 5,
   "id": "1c1d38df",
   "metadata": {},
   "outputs": [],
   "source": [
    "##Explore the Melbourne house dataset "
   ]
  },
  {
   "cell_type": "code",
   "execution_count": 6,
   "id": "40a4dceb",
   "metadata": {},
   "outputs": [],
   "source": [
    "house_df = house_df.loc[:, ~house_df.columns.str.contains('^Unnamed')]"
   ]
  },
  {
   "cell_type": "code",
   "execution_count": 7,
   "id": "dc6f186e",
   "metadata": {},
   "outputs": [
    {
     "data": {
      "text/plain": [
       "21"
      ]
     },
     "execution_count": 7,
     "metadata": {},
     "output_type": "execute_result"
    }
   ],
   "source": [
    "len(house_df.columns)"
   ]
  },
  {
   "cell_type": "code",
   "execution_count": 8,
   "id": "f8d60338",
   "metadata": {},
   "outputs": [
    {
     "data": {
      "text/plain": [
       "Index(['Suburb', 'Address', 'Rooms', 'Type', 'Price', 'Method', 'SellerG',\n",
       "       'Date', 'Distance', 'Postcode', 'Bedroom2', 'Bathroom', 'Car',\n",
       "       'Landsize', 'BuildingArea', 'YearBuilt', 'CouncilArea', 'Lattitude',\n",
       "       'Longtitude', 'Regionname', 'Propertycount'],\n",
       "      dtype='object')"
      ]
     },
     "execution_count": 8,
     "metadata": {},
     "output_type": "execute_result"
    }
   ],
   "source": [
    "house_df.columns"
   ]
  },
  {
   "cell_type": "code",
   "execution_count": 9,
   "id": "3421a6a3",
   "metadata": {},
   "outputs": [
    {
     "name": "stdout",
     "output_type": "stream",
     "text": [
      "<class 'pandas.core.frame.DataFrame'>\n",
      "RangeIndex: 499 entries, 0 to 498\n",
      "Data columns (total 21 columns):\n",
      " #   Column         Non-Null Count  Dtype  \n",
      "---  ------         --------------  -----  \n",
      " 0   Suburb         499 non-null    object \n",
      " 1   Address        499 non-null    object \n",
      " 2   Rooms          499 non-null    int64  \n",
      " 3   Type           499 non-null    object \n",
      " 4   Price          391 non-null    float64\n",
      " 5   Method         499 non-null    object \n",
      " 6   SellerG        499 non-null    object \n",
      " 7   Date           499 non-null    object \n",
      " 8   Distance       499 non-null    float64\n",
      " 9   Postcode       499 non-null    int64  \n",
      " 10  Bedroom2       371 non-null    float64\n",
      " 11  Bathroom       371 non-null    float64\n",
      " 12  Car            362 non-null    float64\n",
      " 13  Landsize       325 non-null    float64\n",
      " 14  BuildingArea   189 non-null    float64\n",
      " 15  YearBuilt      212 non-null    float64\n",
      " 16  CouncilArea    499 non-null    object \n",
      " 17  Lattitude      377 non-null    float64\n",
      " 18  Longtitude     377 non-null    float64\n",
      " 19  Regionname     499 non-null    object \n",
      " 20  Propertycount  499 non-null    int64  \n",
      "dtypes: float64(10), int64(3), object(8)\n",
      "memory usage: 82.0+ KB\n"
     ]
    }
   ],
   "source": [
    "house_df.info()"
   ]
  },
  {
   "cell_type": "code",
   "execution_count": 10,
   "id": "abbe5276",
   "metadata": {},
   "outputs": [
    {
     "data": {
      "text/html": [
       "<div>\n",
       "<style scoped>\n",
       "    .dataframe tbody tr th:only-of-type {\n",
       "        vertical-align: middle;\n",
       "    }\n",
       "\n",
       "    .dataframe tbody tr th {\n",
       "        vertical-align: top;\n",
       "    }\n",
       "\n",
       "    .dataframe thead th {\n",
       "        text-align: right;\n",
       "    }\n",
       "</style>\n",
       "<table border=\"1\" class=\"dataframe\">\n",
       "  <thead>\n",
       "    <tr style=\"text-align: right;\">\n",
       "      <th></th>\n",
       "      <th>Rooms</th>\n",
       "      <th>Price</th>\n",
       "      <th>Distance</th>\n",
       "      <th>Postcode</th>\n",
       "      <th>Bedroom2</th>\n",
       "      <th>Bathroom</th>\n",
       "      <th>Car</th>\n",
       "      <th>Landsize</th>\n",
       "      <th>BuildingArea</th>\n",
       "      <th>YearBuilt</th>\n",
       "      <th>Lattitude</th>\n",
       "      <th>Longtitude</th>\n",
       "      <th>Propertycount</th>\n",
       "    </tr>\n",
       "  </thead>\n",
       "  <tbody>\n",
       "    <tr>\n",
       "      <th>count</th>\n",
       "      <td>499.000000</td>\n",
       "      <td>3.910000e+02</td>\n",
       "      <td>499.000000</td>\n",
       "      <td>499.000000</td>\n",
       "      <td>371.000000</td>\n",
       "      <td>371.000000</td>\n",
       "      <td>362.000000</td>\n",
       "      <td>325.000000</td>\n",
       "      <td>189.000000</td>\n",
       "      <td>212.000000</td>\n",
       "      <td>377.000000</td>\n",
       "      <td>377.000000</td>\n",
       "      <td>499.000000</td>\n",
       "    </tr>\n",
       "    <tr>\n",
       "      <th>mean</th>\n",
       "      <td>3.028056</td>\n",
       "      <td>1.037080e+06</td>\n",
       "      <td>10.976152</td>\n",
       "      <td>3113.863727</td>\n",
       "      <td>3.083558</td>\n",
       "      <td>1.649596</td>\n",
       "      <td>1.737569</td>\n",
       "      <td>533.400000</td>\n",
       "      <td>152.461905</td>\n",
       "      <td>1968.117925</td>\n",
       "      <td>-37.805206</td>\n",
       "      <td>144.997510</td>\n",
       "      <td>7332.272545</td>\n",
       "    </tr>\n",
       "    <tr>\n",
       "      <th>std</th>\n",
       "      <td>0.945935</td>\n",
       "      <td>6.345152e+05</td>\n",
       "      <td>6.441436</td>\n",
       "      <td>111.281137</td>\n",
       "      <td>1.003251</td>\n",
       "      <td>0.785764</td>\n",
       "      <td>1.020658</td>\n",
       "      <td>677.848689</td>\n",
       "      <td>87.227886</td>\n",
       "      <td>35.950470</td>\n",
       "      <td>0.085016</td>\n",
       "      <td>0.113628</td>\n",
       "      <td>4184.540082</td>\n",
       "    </tr>\n",
       "    <tr>\n",
       "      <th>min</th>\n",
       "      <td>1.000000</td>\n",
       "      <td>2.100000e+05</td>\n",
       "      <td>1.200000</td>\n",
       "      <td>3000.000000</td>\n",
       "      <td>1.000000</td>\n",
       "      <td>1.000000</td>\n",
       "      <td>0.000000</td>\n",
       "      <td>0.000000</td>\n",
       "      <td>0.000000</td>\n",
       "      <td>1879.000000</td>\n",
       "      <td>-38.138600</td>\n",
       "      <td>144.570500</td>\n",
       "      <td>768.000000</td>\n",
       "    </tr>\n",
       "    <tr>\n",
       "      <th>25%</th>\n",
       "      <td>2.000000</td>\n",
       "      <td>6.100000e+05</td>\n",
       "      <td>6.400000</td>\n",
       "      <td>3046.000000</td>\n",
       "      <td>2.000000</td>\n",
       "      <td>1.000000</td>\n",
       "      <td>1.000000</td>\n",
       "      <td>225.000000</td>\n",
       "      <td>97.000000</td>\n",
       "      <td>1950.000000</td>\n",
       "      <td>-37.853800</td>\n",
       "      <td>144.927300</td>\n",
       "      <td>4380.000000</td>\n",
       "    </tr>\n",
       "    <tr>\n",
       "      <th>50%</th>\n",
       "      <td>3.000000</td>\n",
       "      <td>8.705000e+05</td>\n",
       "      <td>10.400000</td>\n",
       "      <td>3101.000000</td>\n",
       "      <td>3.000000</td>\n",
       "      <td>1.000000</td>\n",
       "      <td>2.000000</td>\n",
       "      <td>535.000000</td>\n",
       "      <td>130.000000</td>\n",
       "      <td>1970.000000</td>\n",
       "      <td>-37.802500</td>\n",
       "      <td>144.998000</td>\n",
       "      <td>6543.000000</td>\n",
       "    </tr>\n",
       "    <tr>\n",
       "      <th>75%</th>\n",
       "      <td>4.000000</td>\n",
       "      <td>1.262500e+06</td>\n",
       "      <td>13.900000</td>\n",
       "      <td>3152.500000</td>\n",
       "      <td>4.000000</td>\n",
       "      <td>2.000000</td>\n",
       "      <td>2.000000</td>\n",
       "      <td>697.000000</td>\n",
       "      <td>194.000000</td>\n",
       "      <td>2001.000000</td>\n",
       "      <td>-37.750100</td>\n",
       "      <td>145.066200</td>\n",
       "      <td>9540.000000</td>\n",
       "    </tr>\n",
       "    <tr>\n",
       "      <th>max</th>\n",
       "      <td>6.000000</td>\n",
       "      <td>5.500000e+06</td>\n",
       "      <td>44.200000</td>\n",
       "      <td>3910.000000</td>\n",
       "      <td>10.000000</td>\n",
       "      <td>6.000000</td>\n",
       "      <td>8.000000</td>\n",
       "      <td>10100.000000</td>\n",
       "      <td>572.000000</td>\n",
       "      <td>2017.000000</td>\n",
       "      <td>-37.407440</td>\n",
       "      <td>145.440820</td>\n",
       "      <td>21650.000000</td>\n",
       "    </tr>\n",
       "  </tbody>\n",
       "</table>\n",
       "</div>"
      ],
      "text/plain": [
       "            Rooms         Price    Distance     Postcode    Bedroom2  \\\n",
       "count  499.000000  3.910000e+02  499.000000   499.000000  371.000000   \n",
       "mean     3.028056  1.037080e+06   10.976152  3113.863727    3.083558   \n",
       "std      0.945935  6.345152e+05    6.441436   111.281137    1.003251   \n",
       "min      1.000000  2.100000e+05    1.200000  3000.000000    1.000000   \n",
       "25%      2.000000  6.100000e+05    6.400000  3046.000000    2.000000   \n",
       "50%      3.000000  8.705000e+05   10.400000  3101.000000    3.000000   \n",
       "75%      4.000000  1.262500e+06   13.900000  3152.500000    4.000000   \n",
       "max      6.000000  5.500000e+06   44.200000  3910.000000   10.000000   \n",
       "\n",
       "         Bathroom         Car      Landsize  BuildingArea    YearBuilt  \\\n",
       "count  371.000000  362.000000    325.000000    189.000000   212.000000   \n",
       "mean     1.649596    1.737569    533.400000    152.461905  1968.117925   \n",
       "std      0.785764    1.020658    677.848689     87.227886    35.950470   \n",
       "min      1.000000    0.000000      0.000000      0.000000  1879.000000   \n",
       "25%      1.000000    1.000000    225.000000     97.000000  1950.000000   \n",
       "50%      1.000000    2.000000    535.000000    130.000000  1970.000000   \n",
       "75%      2.000000    2.000000    697.000000    194.000000  2001.000000   \n",
       "max      6.000000    8.000000  10100.000000    572.000000  2017.000000   \n",
       "\n",
       "        Lattitude  Longtitude  Propertycount  \n",
       "count  377.000000  377.000000     499.000000  \n",
       "mean   -37.805206  144.997510    7332.272545  \n",
       "std      0.085016    0.113628    4184.540082  \n",
       "min    -38.138600  144.570500     768.000000  \n",
       "25%    -37.853800  144.927300    4380.000000  \n",
       "50%    -37.802500  144.998000    6543.000000  \n",
       "75%    -37.750100  145.066200    9540.000000  \n",
       "max    -37.407440  145.440820   21650.000000  "
      ]
     },
     "execution_count": 10,
     "metadata": {},
     "output_type": "execute_result"
    }
   ],
   "source": [
    "house_df.describe()"
   ]
  },
  {
   "cell_type": "code",
   "execution_count": 11,
   "id": "9e2f678a",
   "metadata": {},
   "outputs": [
    {
     "name": "stdout",
     "output_type": "stream",
     "text": [
      "Suburb column missing values: 0.0\n",
      "Address column missing values: 0.0\n",
      "Rooms column missing values: 0.0\n",
      "Type column missing values: 0.0\n",
      "Price column missing values: 21.64328657314629\n",
      "Method column missing values: 0.0\n",
      "SellerG column missing values: 0.0\n",
      "Date column missing values: 0.0\n",
      "Distance column missing values: 0.0\n",
      "Postcode column missing values: 0.0\n",
      "Bedroom2 column missing values: 25.651302605210418\n",
      "Bathroom column missing values: 25.651302605210418\n",
      "Car column missing values: 27.45490981963928\n",
      "Landsize column missing values: 34.86973947895792\n",
      "BuildingArea column missing values: 62.124248496993985\n",
      "YearBuilt column missing values: 57.51503006012024\n",
      "CouncilArea column missing values: 0.0\n",
      "Lattitude column missing values: 24.448897795591183\n",
      "Longtitude column missing values: 24.448897795591183\n",
      "Regionname column missing values: 0.0\n",
      "Propertycount column missing values: 0.0\n",
      "\n",
      "\n"
     ]
    }
   ],
   "source": [
    "#Calculating Missing Values for each column in house_df in percentages to deal with NaNs  \n",
    "cols_to_drop=[]\n",
    "def display_missing_perc(df):    \n",
    "    for col in df.columns.tolist():       \n",
    "        missing_value = 100*(df[col].isnull().sum()/len(df[col]))\n",
    "        print(f'{col} column missing values: {missing_value}')\n",
    "        if missing_value >= 40:\n",
    "            cols_to_drop.append(col)\n",
    "    print('\\n')\n",
    "display_missing_perc(house_df)"
   ]
  },
  {
   "cell_type": "code",
   "execution_count": 12,
   "id": "5a1c7201",
   "metadata": {},
   "outputs": [],
   "source": [
    "## I will drop BuildingArea since it is missing 62% of the data (310/498=0.622)  \n",
    "house_df = house_df.drop(columns='BuildingArea')"
   ]
  },
  {
   "cell_type": "code",
   "execution_count": 13,
   "id": "8a58ee66",
   "metadata": {},
   "outputs": [
    {
     "data": {
      "text/plain": [
       "(499, 20)"
      ]
     },
     "execution_count": 13,
     "metadata": {},
     "output_type": "execute_result"
    }
   ],
   "source": [
    "house_df.shape"
   ]
  },
  {
   "cell_type": "markdown",
   "id": "bfefaf0f",
   "metadata": {},
   "source": [
    "## The Price column holds significant importance as our dependent variable. To address missing values, we will remove the NaNs in the Price column, opting for this approach instead of multiple imputation."
   ]
  },
  {
   "cell_type": "code",
   "execution_count": 14,
   "id": "99c696ef",
   "metadata": {},
   "outputs": [],
   "source": [
    "house_df= house_df.dropna(subset=['Price'])"
   ]
  },
  {
   "cell_type": "code",
   "execution_count": 15,
   "id": "b71464e5",
   "metadata": {},
   "outputs": [
    {
     "data": {
      "text/plain": [
       "391"
      ]
     },
     "execution_count": 15,
     "metadata": {},
     "output_type": "execute_result"
    }
   ],
   "source": [
    "pd.set_option('display.max_rows',400)\n",
    "house_df['Price']\n",
    "len(house_df['Price'])"
   ]
  },
  {
   "cell_type": "markdown",
   "id": "3a036058",
   "metadata": {},
   "source": [
    "## We will fill in the missing values using the average (mean) of the column. This is because a significant 21% of the data is missing, and we don't know why it's missing – whether randomly or not. This choice is due to the uncertainity in the dataset. "
   ]
  },
  {
   "cell_type": "code",
   "execution_count": 16,
   "id": "783cd4a4",
   "metadata": {},
   "outputs": [],
   "source": [
    "house_df['Bedroom2']= house_df['Bedroom2'].fillna(house_df['Bedroom2'].mean())\n",
    "house_df['Bathroom']= house_df['Bathroom'].fillna(house_df['Bathroom'].mean())\n",
    "house_df['YearBuilt']= house_df['YearBuilt'].fillna(house_df['YearBuilt'].mean())\n",
    "house_df['Car']= house_df['Car'].fillna(house_df['Car'].mean())\n",
    "house_df['Landsize']= house_df['Landsize'].fillna(house_df['Landsize'].mean())"
   ]
  },
  {
   "cell_type": "code",
   "execution_count": 17,
   "id": "80988638",
   "metadata": {},
   "outputs": [
    {
     "name": "stdout",
     "output_type": "stream",
     "text": [
      "Missing values before fillna: 0\n"
     ]
    }
   ],
   "source": [
    "#checking for random nan values to make sure they are resolved\n",
    "print(\"Missing values before fillna:\", house_df['Bathroom'].isnull().sum())"
   ]
  },
  {
   "cell_type": "code",
   "execution_count": 18,
   "id": "3824374b",
   "metadata": {},
   "outputs": [
    {
     "data": {
      "text/plain": [
       "(391, 20)"
      ]
     },
     "execution_count": 18,
     "metadata": {},
     "output_type": "execute_result"
    }
   ],
   "source": [
    "house_df.shape"
   ]
  },
  {
   "cell_type": "markdown",
   "id": "ef40afd5",
   "metadata": {},
   "source": [
    "### Provide visualizations such as histograms, scatter plots, or box plots to understand the distribution of different features\n",
    "\n",
    "### Include any other plots you find interesting and provide brief interpretations"
   ]
  },
  {
   "cell_type": "code",
   "execution_count": 19,
   "id": "5cd3b143",
   "metadata": {},
   "outputs": [
    {
     "data": {
      "image/png": "[encoded data removed]",
      "text/plain": [
       "<Figure size 864x720 with 2 Axes>"
      ]
     },
     "metadata": {
      "needs_background": "light"
     },
     "output_type": "display_data"
    }
   ],
   "source": [
    "plt.figure(figsize=(12, 10))\n",
    "sns.heatmap(house_df.corr(), cmap=\"YlGnBu\", annot = True)\n",
    "plt.show()"
   ]
  },
  {
   "cell_type": "markdown",
   "id": "ce94e3cd",
   "metadata": {},
   "source": [
    "- This is a heatmap and it shows the correlation of all the variables, providing a visual representation that offers insights into the dataset."
   ]
  },
  {
   "cell_type": "code",
   "execution_count": 20,
   "id": "6059d438",
   "metadata": {},
   "outputs": [
    {
     "data": {
      "image/png": "[encoded data removed]",
      "text/plain": [
       "<Figure size 432x288 with 1 Axes>"
      ]
     },
     "metadata": {
      "needs_background": "light"
     },
     "output_type": "display_data"
    }
   ],
   "source": [
    "sns.boxplot(x='Rooms',y='Price',data=house_df )\n",
    "plt.ylabel('Price', fontsize=13)\n",
    "plt.xlabel('Rooms', fontsize=13)\n",
    "plt.show()"
   ]
  },
  {
   "cell_type": "markdown",
   "id": "0d34994a",
   "metadata": {},
   "source": [
    "- This boxplot indicates that houses with 4 to 5 rooms tend to have higher prices, with a few outliers in the 4-room category."
   ]
  },
  {
   "cell_type": "code",
   "execution_count": 21,
   "id": "42afe46f",
   "metadata": {
    "scrolled": true
   },
   "outputs": [
    {
     "data": {
      "image/png": "[encoded data removed]",
      "text/plain": [
       "<Figure size 432x288 with 1 Axes>"
      ]
     },
     "metadata": {
      "needs_background": "light"
     },
     "output_type": "display_data"
    }
   ],
   "source": [
    "sns.scatterplot(x='Distance',y='Price',data=house_df)\n",
    "plt.ylabel('Price', fontsize=13)\n",
    "plt.xlabel('Distance', fontsize=13)\n",
    "plt.show()"
   ]
  },
  {
   "cell_type": "markdown",
   "id": "4c18795c",
   "metadata": {},
   "source": [
    "- This scatterplot suggests that houses closer in distance tend to have higher prices compared to those at farther distances."
   ]
  },
  {
   "cell_type": "code",
   "execution_count": 22,
   "id": "70398a00",
   "metadata": {},
   "outputs": [
    {
     "data": {
      "image/png": "[encoded data removed]",
      "text/plain": [
       "<Figure size 432x288 with 1 Axes>"
      ]
     },
     "metadata": {
      "needs_background": "light"
     },
     "output_type": "display_data"
    }
   ],
   "source": [
    "sns.scatterplot(x='Bedroom2',y='Price',data=house_df)\n",
    "plt.ylabel('Price', fontsize=13)\n",
    "plt.xlabel('Bedroom2', fontsize=13)\n",
    "plt.show()"
   ]
  },
  {
   "cell_type": "markdown",
   "id": "ceed5a0f",
   "metadata": {},
   "source": [
    "- This scatterplot implies that houses with a Bedroom2 value of 4 tend to have higher prices."
   ]
  },
  {
   "cell_type": "code",
   "execution_count": 23,
   "id": "cc0eb8c2",
   "metadata": {},
   "outputs": [
    {
     "data": {
      "image/png": "[encoded data removed]",
      "text/plain": [
       "<Figure size 432x288 with 1 Axes>"
      ]
     },
     "metadata": {
      "needs_background": "light"
     },
     "output_type": "display_data"
    }
   ],
   "source": [
    "sns.scatterplot(x='Landsize',y='Price',data=house_df)\n",
    "plt.ylabel('Price', fontsize=13)\n",
    "plt.xlabel('Landsize', fontsize=13)\n",
    "plt.show()"
   ]
  },
  {
   "cell_type": "markdown",
   "id": "d11009c8",
   "metadata": {},
   "source": [
    "- This scatterplot illustrates that there is no clear linear relationship between Landsizes and other variables."
   ]
  },
  {
   "cell_type": "code",
   "execution_count": 24,
   "id": "502ed93c",
   "metadata": {},
   "outputs": [
    {
     "data": {
      "image/png": "[encoded data removed]",
      "text/plain": [
       "<Figure size 432x288 with 1 Axes>"
      ]
     },
     "metadata": {
      "needs_background": "light"
     },
     "output_type": "display_data"
    }
   ],
   "source": [
    "sns.scatterplot(x='Car',y='Price',data=house_df)\n",
    "plt.ylabel('Price', fontsize=13)\n",
    "plt.xlabel('Car', fontsize=13)\n",
    "plt.show()"
   ]
  },
  {
   "cell_type": "markdown",
   "id": "9acf7421",
   "metadata": {},
   "source": [
    "- This scatterplot reveals a subtle pattern, indicating that houses with a higher number of cars may have a higher price."
   ]
  },
  {
   "cell_type": "code",
   "execution_count": 25,
   "id": "80c8936f",
   "metadata": {},
   "outputs": [
    {
     "data": {
      "image/png": "[encoded data removed]",
      "text/plain": [
       "<Figure size 432x288 with 1 Axes>"
      ]
     },
     "metadata": {
      "needs_background": "light"
     },
     "output_type": "display_data"
    }
   ],
   "source": [
    "sns.scatterplot(x='YearBuilt',y='Price',data=house_df)\n",
    "plt.ylabel('Price', fontsize=13)\n",
    "plt.xlabel('YearBuilt', fontsize=13)\n",
    "plt.show()"
   ]
  },
  {
   "cell_type": "markdown",
   "id": "f0dc9e7e",
   "metadata": {},
   "source": [
    "- This scatterplot displays no significant correlation between the year built and price. However, I will retain it to check its significance with other variables."
   ]
  },
  {
   "cell_type": "code",
   "execution_count": 26,
   "id": "72d21c53",
   "metadata": {
    "scrolled": true
   },
   "outputs": [
    {
     "data": {
      "image/png": "[encoded data removed]",
      "text/plain": [
       "<Figure size 432x288 with 1 Axes>"
      ]
     },
     "metadata": {
      "needs_background": "light"
     },
     "output_type": "display_data"
    }
   ],
   "source": [
    "sns.boxplot(x='Price',y='Regionname',data=house_df)\n",
    "plt.ylabel('Regionname', fontsize=13)\n",
    "plt.xlabel('Price', fontsize=13)\n",
    "plt.show()"
   ]
  },
  {
   "cell_type": "markdown",
   "id": "546af0a4",
   "metadata": {},
   "source": [
    "- This boxplot indicates that the price tends to be higher for houses located in the Southern Metropolitan Region."
   ]
  },
  {
   "cell_type": "markdown",
   "id": "a8c66319",
   "metadata": {},
   "source": [
    "## Starting to Create my Data for Linear Regression"
   ]
  },
  {
   "cell_type": "markdown",
   "id": "959eb3fd",
   "metadata": {},
   "source": [
    "- Breaking Down 'Date' Column into two columsn 'PurchaseMonth' and 'PurchaseYear' so we can use them as separate features for linear regression. This would help in understanding if Year or Month have any impact on Price in Melbourne."
   ]
  },
  {
   "cell_type": "code",
   "execution_count": 27,
   "id": "45850099",
   "metadata": {},
   "outputs": [],
   "source": [
    "house_df['Date'] = pd.to_datetime(house_df['Date'])\n",
    "\n",
    "# transforming Date and creating new columns\n",
    "house_df['PurchaseMonth'] = house_df['Date'].dt.month\n",
    "house_df['PurchaseYear'] = house_df['Date'].dt.year"
   ]
  },
  {
   "cell_type": "code",
   "execution_count": 28,
   "id": "bbc5fdaa",
   "metadata": {},
   "outputs": [],
   "source": [
    "#Removing certain variables as they offer limited utility:\n",
    "#Latitude and longitude contain missing values, and multiple imputation might not provide meaningful insights. We already have region and postcode information.\n",
    "#SellerG and Suburb are categorical variables that may not contribute significantly.\n",
    "#Address, being a lengthy character, is omitted for simplicity.\n",
    "house_df=house_df.drop(columns=['Date','SellerG','Suburb','Address','Lattitude','Longtitude'])"
   ]
  },
  {
   "cell_type": "code",
   "execution_count": 29,
   "id": "26510282",
   "metadata": {},
   "outputs": [
    {
     "data": {
      "text/plain": [
       "(391, 16)"
      ]
     },
     "execution_count": 29,
     "metadata": {},
     "output_type": "execute_result"
    }
   ],
   "source": [
    "house_df.shape"
   ]
  },
  {
   "cell_type": "code",
   "execution_count": 30,
   "id": "9714572b",
   "metadata": {},
   "outputs": [
    {
     "name": "stdout",
     "output_type": "stream",
     "text": [
      "Index(['Type', 'Method', 'CouncilArea', 'Regionname'], dtype='object')\n"
     ]
    }
   ],
   "source": [
    "print(house_df.select_dtypes(include=['object']).columns)"
   ]
  },
  {
   "cell_type": "markdown",
   "id": "a37c81fd",
   "metadata": {},
   "source": [
    "## One-hot Encoding for Categorical Variables\n",
    "\n",
    "One-hot encoding is a method used in data preprocessing to convert categorical variables into a format that machine learning models can understand. I will convert my objects in my table in house_df with this method."
   ]
  },
  {
   "cell_type": "code",
   "execution_count": 31,
   "id": "6fc52846",
   "metadata": {},
   "outputs": [],
   "source": [
    "from sklearn.preprocessing import LabelEncoder\n",
    "cols = [ 'Type', 'Method', 'CouncilArea','Regionname']\n",
    "# process columns, apply LabelEncoder to categorical features\n",
    "for c in cols:\n",
    "    lbl = LabelEncoder() \n",
    "    lbl.fit(list(house_df[c].values)) \n",
    "    house_df[c] = lbl.transform(list(house_df[c].values))"
   ]
  },
  {
   "cell_type": "code",
   "execution_count": 32,
   "id": "f7ce8a65",
   "metadata": {},
   "outputs": [],
   "source": [
    "numeric_cols = house_df.select_dtypes(include=[np.number]).columns.tolist()"
   ]
  },
  {
   "cell_type": "code",
   "execution_count": 33,
   "id": "cfe4f2eb",
   "metadata": {},
   "outputs": [
    {
     "data": {
      "text/plain": [
       "['Rooms',\n",
       " 'Type',\n",
       " 'Price',\n",
       " 'Method',\n",
       " 'Distance',\n",
       " 'Postcode',\n",
       " 'Bedroom2',\n",
       " 'Bathroom',\n",
       " 'Car',\n",
       " 'Landsize',\n",
       " 'YearBuilt',\n",
       " 'CouncilArea',\n",
       " 'Regionname',\n",
       " 'Propertycount',\n",
       " 'PurchaseMonth',\n",
       " 'PurchaseYear']"
      ]
     },
     "execution_count": 33,
     "metadata": {},
     "output_type": "execute_result"
    }
   ],
   "source": [
    "numeric_cols"
   ]
  },
  {
   "cell_type": "code",
   "execution_count": 34,
   "id": "c47850c3",
   "metadata": {},
   "outputs": [
    {
     "data": {
      "text/plain": [
       "16"
      ]
     },
     "execution_count": 34,
     "metadata": {},
     "output_type": "execute_result"
    }
   ],
   "source": [
    "len(numeric_cols)"
   ]
  },
  {
   "cell_type": "code",
   "execution_count": 35,
   "id": "ef59e0c6",
   "metadata": {},
   "outputs": [
    {
     "data": {
      "text/plain": [
       "(391, 16)"
      ]
     },
     "execution_count": 35,
     "metadata": {},
     "output_type": "execute_result"
    }
   ],
   "source": [
    "# shape        \n",
    "house_df.shape"
   ]
  },
  {
   "cell_type": "markdown",
   "id": "fd1b3204",
   "metadata": {},
   "source": [
    "## **Linear Regression Model Development**"
   ]
  },
  {
   "cell_type": "code",
   "execution_count": 36,
   "id": "0153cb4a",
   "metadata": {},
   "outputs": [],
   "source": [
    "#spiltting my data 70-30 \n",
    "train,test=train_test_split(house_df, train_size=0.7)"
   ]
  },
  {
   "cell_type": "code",
   "execution_count": 37,
   "id": "df5561de",
   "metadata": {},
   "outputs": [],
   "source": [
    "# Define dependent and independent variables\n",
    "X = train.drop('Price', axis=1).values\n",
    "y = train['Price'].values"
   ]
  },
  {
   "cell_type": "code",
   "execution_count": 38,
   "id": "1be3e660",
   "metadata": {},
   "outputs": [
    {
     "data": {
      "text/plain": [
       "273"
      ]
     },
     "execution_count": 38,
     "metadata": {},
     "output_type": "execute_result"
    }
   ],
   "source": [
    "len(X)\n",
    "len(y)"
   ]
  },
  {
   "cell_type": "code",
   "execution_count": 39,
   "id": "37e717c2",
   "metadata": {},
   "outputs": [
    {
     "data": {
      "text/html": [
       "<style>#sk-container-id-1 {color: black;}#sk-container-id-1 pre{padding: 0;}#sk-container-id-1 div.sk-toggleable {background-color: white;}#sk-container-id-1 label.sk-toggleable__label {cursor: pointer;display: block;width: 100%;margin-bottom: 0;padding: 0.3em;box-sizing: border-box;text-align: center;}#sk-container-id-1 label.sk-toggleable__label-arrow:before {content: \"▸\";float: left;margin-right: 0.25em;color: #696969;}#sk-container-id-1 label.sk-toggleable__label-arrow:hover:before {color: black;}#sk-container-id-1 div.sk-estimator:hover label.sk-toggleable__label-arrow:before {color: black;}#sk-container-id-1 div.sk-toggleable__content {max-height: 0;max-width: 0;overflow: hidden;text-align: left;background-color: #f0f8ff;}#sk-container-id-1 div.sk-toggleable__content pre {margin: 0.2em;color: black;border-radius: 0.25em;background-color: #f0f8ff;}#sk-container-id-1 input.sk-toggleable__control:checked~div.sk-toggleable__content {max-height: 200px;max-width: 100%;overflow: auto;}#sk-container-id-1 input.sk-toggleable__control:checked~label.sk-toggleable__label-arrow:before {content: \"▾\";}#sk-container-id-1 div.sk-estimator input.sk-toggleable__control:checked~label.sk-toggleable__label {background-color: #d4ebff;}#sk-container-id-1 div.sk-label input.sk-toggleable__control:checked~label.sk-toggleable__label {background-color: #d4ebff;}#sk-container-id-1 input.sk-hidden--visually {border: 0;clip: rect(1px 1px 1px 1px);clip: rect(1px, 1px, 1px, 1px);height: 1px;margin: -1px;overflow: hidden;padding: 0;position: absolute;width: 1px;}#sk-container-id-1 div.sk-estimator {font-family: monospace;background-color: #f0f8ff;border: 1px dotted black;border-radius: 0.25em;box-sizing: border-box;margin-bottom: 0.5em;}#sk-container-id-1 div.sk-estimator:hover {background-color: #d4ebff;}#sk-container-id-1 div.sk-parallel-item::after {content: \"\";width: 100%;border-bottom: 1px solid gray;flex-grow: 1;}#sk-container-id-1 div.sk-label:hover label.sk-toggleable__label {background-color: #d4ebff;}#sk-container-id-1 div.sk-serial::before {content: \"\";position: absolute;border-left: 1px solid gray;box-sizing: border-box;top: 0;bottom: 0;left: 50%;z-index: 0;}#sk-container-id-1 div.sk-serial {display: flex;flex-direction: column;align-items: center;background-color: white;padding-right: 0.2em;padding-left: 0.2em;position: relative;}#sk-container-id-1 div.sk-item {position: relative;z-index: 1;}#sk-container-id-1 div.sk-parallel {display: flex;align-items: stretch;justify-content: center;background-color: white;position: relative;}#sk-container-id-1 div.sk-item::before, #sk-container-id-1 div.sk-parallel-item::before {content: \"\";position: absolute;border-left: 1px solid gray;box-sizing: border-box;top: 0;bottom: 0;left: 50%;z-index: -1;}#sk-container-id-1 div.sk-parallel-item {display: flex;flex-direction: column;z-index: 1;position: relative;background-color: white;}#sk-container-id-1 div.sk-parallel-item:first-child::after {align-self: flex-end;width: 50%;}#sk-container-id-1 div.sk-parallel-item:last-child::after {align-self: flex-start;width: 50%;}#sk-container-id-1 div.sk-parallel-item:only-child::after {width: 0;}#sk-container-id-1 div.sk-dashed-wrapped {border: 1px dashed gray;margin: 0 0.4em 0.5em 0.4em;box-sizing: border-box;padding-bottom: 0.4em;background-color: white;}#sk-container-id-1 div.sk-label label {font-family: monospace;font-weight: bold;display: inline-block;line-height: 1.2em;}#sk-container-id-1 div.sk-label-container {text-align: center;}#sk-container-id-1 div.sk-container {/* jupyter's `normalize.less` sets `[hidden] { display: none; }` but bootstrap.min.css set `[hidden] { display: none !important; }` so we also need the `!important` here to be able to override the default hidden behavior on the sphinx rendered scikit-learn.org. See: https://github.com/scikit-learn/scikit-learn/issues/21755 */display: inline-block !important;position: relative;}#sk-container-id-1 div.sk-text-repr-fallback {display: none;}</style><div id=\"sk-container-id-1\" class=\"sk-top-container\"><div class=\"sk-text-repr-fallback\"><pre>LinearRegression()</pre><b>In a Jupyter environment, please rerun this cell to show the HTML representation or trust the notebook. <br />On GitHub, the HTML representation is unable to render, please try loading this page with nbviewer.org.</b></div><div class=\"sk-container\" hidden><div class=\"sk-item\"><div class=\"sk-estimator sk-toggleable\"><input class=\"sk-toggleable__control sk-hidden--visually\" id=\"sk-estimator-id-1\" type=\"checkbox\" checked><label for=\"sk-estimator-id-1\" class=\"sk-toggleable__label sk-toggleable__label-arrow\">LinearRegression</label><div class=\"sk-toggleable__content\"><pre>LinearRegression()</pre></div></div></div></div></div>"
      ],
      "text/plain": [
       "LinearRegression()"
      ]
     },
     "execution_count": 39,
     "metadata": {},
     "output_type": "execute_result"
    }
   ],
   "source": [
    "# Initialize and fit the model\n",
    "model = LinearRegression()\n",
    "model.fit(X, y)"
   ]
  },
  {
   "cell_type": "code",
   "execution_count": 40,
   "id": "da40807c",
   "metadata": {},
   "outputs": [
    {
     "data": {
      "text/plain": [
       "array([ 574652.17864711, 1219579.96946481, 1473031.82927378,\n",
       "        905866.60158117, 1135754.34618042,  335829.6253966 ,\n",
       "       1197751.23245132, 1150914.36357044,  554219.79831627,\n",
       "        899612.00117545, 1068549.25510286,  637659.78011539,\n",
       "       1593224.12408779,  916704.93809653,  440551.49040616,\n",
       "         35682.31517765, 1276101.65531793,  804937.20250024,\n",
       "        939004.03380291,  887440.51748737,   81869.35327435,\n",
       "        923874.1758448 , 1342884.15960981, 1736127.03649259,\n",
       "       1042077.61651687, 2057464.22516238, 1174707.61871924,\n",
       "        978351.8860275 ,  916600.23958446,  951956.15428968,\n",
       "        523489.41770669, 1483458.85233647,  786247.22709736,\n",
       "        851072.05574832, 1059410.14980911, 1027862.56004025,\n",
       "        500328.32070001, 1099390.73495793, 1072859.12472309,\n",
       "        851043.4068745 , 1306633.32145111, 2305706.63225506,\n",
       "        893941.53163441, 1388729.84334838, 1346509.65465122,\n",
       "        474649.4299737 , 1191871.45236485, 1287270.66914423,\n",
       "       1114648.90760849, 1865208.53761119,  333246.72619123,\n",
       "        825802.31112652,  908544.95610488, 2274436.16702754,\n",
       "        908974.96577422, 1744755.52447121,  957785.19632018,\n",
       "        961124.19305737,  470660.7364457 , 1712709.23111168,\n",
       "       1401332.88630587, 1052291.37418906, 1186542.62179463,\n",
       "       1044330.78681546,  712741.41781782, 1315960.19863451,\n",
       "        456400.15656957, 1555065.96531948,  766512.86140674,\n",
       "       1079599.5780755 ,  683127.54189907, 1531610.93305901,\n",
       "       1554982.94037009,  849311.21849304,  741323.00497698,\n",
       "        209105.99215926, 1389977.34229369,  449098.61603785,\n",
       "       1175336.22297112,  873455.92692045, 1198450.03166918,\n",
       "        828623.81606812, 1415021.88207871,  447986.14234106,\n",
       "       1316945.1298828 , 1129462.73135712, 1438920.34601433,\n",
       "         83321.65542557, 1008618.02793124, 1438768.22257344,\n",
       "       1204738.89047945,  122011.13187239,  842827.76047936,\n",
       "        946277.33912414,   29196.58309548, 1439058.65972923,\n",
       "       1021536.4845418 , 1085376.81455353, 1620282.2366026 ,\n",
       "        894527.84022895, 1032118.03876311, 1253392.37784584,\n",
       "        736540.13467276, 1510897.12472051,  586912.66485803,\n",
       "        810302.21026208,  944965.75760169, 1497477.7413188 ,\n",
       "       1638830.96994843,  314555.15290628, 1263447.08653615,\n",
       "        687599.93291906,  884683.51300223, 1392147.68303689,\n",
       "        978566.50257611, 1301075.32520273,  789198.04594636,\n",
       "        440279.79769866])"
      ]
     },
     "execution_count": 40,
     "metadata": {},
     "output_type": "execute_result"
    }
   ],
   "source": [
    "model.predict(test.drop('Price', axis=1).values)"
   ]
  },
  {
   "cell_type": "code",
   "execution_count": 41,
   "id": "d9ed29e7",
   "metadata": {},
   "outputs": [],
   "source": [
    "linear_preds=model.predict(test.drop('Price', axis=1).values)"
   ]
  },
  {
   "cell_type": "code",
   "execution_count": 42,
   "id": "99978790",
   "metadata": {},
   "outputs": [
    {
     "data": {
      "text/plain": [
       "245999499754.31366"
      ]
     },
     "execution_count": 42,
     "metadata": {},
     "output_type": "execute_result"
    }
   ],
   "source": [
    "#MSE for the model\n",
    "mean_squared_error(test['Price'],linear_preds)"
   ]
  },
  {
   "cell_type": "code",
   "execution_count": 43,
   "id": "5a181335",
   "metadata": {},
   "outputs": [
    {
     "data": {
      "text/plain": [
       "0.4999082928748545"
      ]
     },
     "execution_count": 43,
     "metadata": {},
     "output_type": "execute_result"
    }
   ],
   "source": [
    "#R^2 for the model\n",
    "r2_score(test['Price'], linear_preds)"
   ]
  },
  {
   "cell_type": "markdown",
   "id": "8eb65dfb",
   "metadata": {},
   "source": [
    "## **Model Evaluation**\n",
    "\n",
    "### - Evaluate your linear regression model using appropriate metrics."
   ]
  },
  {
   "cell_type": "markdown",
   "id": "b111a3e3",
   "metadata": {},
   "source": [
    "### I divided my dataset into training and testing sets. I utilized the test data to make predictions and evaluate the out-of-sample R^2 and mean squared error (MSE). Here are the results for the model."
   ]
  },
  {
   "cell_type": "code",
   "execution_count": 44,
   "id": "ef1cb1ad",
   "metadata": {},
   "outputs": [
    {
     "data": {
      "text/plain": [
       "245999499754.31366"
      ]
     },
     "execution_count": 44,
     "metadata": {},
     "output_type": "execute_result"
    }
   ],
   "source": [
    "#MSE for the model\n",
    "mean_squared_error(test['Price'],linear_preds)"
   ]
  },
  {
   "cell_type": "code",
   "execution_count": 45,
   "id": "9d8f2afe",
   "metadata": {},
   "outputs": [
    {
     "data": {
      "text/plain": [
       "0.4999082928748545"
      ]
     },
     "execution_count": 45,
     "metadata": {},
     "output_type": "execute_result"
    }
   ],
   "source": [
    "#R^2 for the model\n",
    "r2_score(test['Price'], linear_preds)"
   ]
  },
  {
   "cell_type": "markdown",
   "id": "1327f14a",
   "metadata": {},
   "source": [
    "### - Interpret these metrics to assess the performance of your model. Is it good? Why?"
   ]
  },
  {
   "cell_type": "markdown",
   "id": "4c8f5726",
   "metadata": {},
   "source": [
    "- The linear regression model applied to house_df with Price as the dependent variable, gives a very high mean squared error(MSE). This value represents the average difference between the actual and predicted prices.\n",
    "\n",
    "- The out-of-sample (OOS) R-squared score of fairly high indicates that the linear regression model explains a moderate portion of the variance in prices, leaving room for improvement.\n",
    "\n",
    "- In statistical theory, a higher OOS R-squared and lower MSE are considered favorable indicators for a good prediction model. However, this linear regression model poses a significant challenge due to its unusually high MSE, suggesting a considerable average difference between actual and predicted prices. In practical terms, such a model may not be deemed useful. Therefore, depending on the chosen evaluation metrics, the model's effectiveness can be questionable.\n",
    "\n",
    "- Additionally, the substantial amount of missing data contributes to the model's inaccuracy, impacting both data quality and quantity. Enhancing the nature of the data or applying penalties for utilizing numerous variables may be necessary to address these issues and improve the model's reliability"
   ]
  },
  {
   "cell_type": "markdown",
   "id": "90549f59",
   "metadata": {},
   "source": [
    "## **Regularization** \n",
    "    \n",
    "### Is there a need for Lasso regularization? Explain. (Compare test and training results)"
   ]
  },
  {
   "cell_type": "markdown",
   "id": "95e8e7a2",
   "metadata": {},
   "source": [
    "Regularization becomes important when the OOS performance drops compares to in-sample performance. In this case, the Rsquared would be lower for the OOS versus in sample. We will evalute that with model coffiecents."
   ]
  },
  {
   "cell_type": "code",
   "execution_count": 47,
   "id": "d7b41241",
   "metadata": {},
   "outputs": [
    {
     "data": {
      "text/plain": [
       "(391, 16)"
      ]
     },
     "execution_count": 47,
     "metadata": {},
     "output_type": "execute_result"
    }
   ],
   "source": [
    "house_df.shape"
   ]
  },
  {
   "cell_type": "code",
   "execution_count": 48,
   "id": "04be2332",
   "metadata": {},
   "outputs": [],
   "source": [
    "coefficients=model.coef_"
   ]
  },
  {
   "cell_type": "code",
   "execution_count": 49,
   "id": "8f2d89e8",
   "metadata": {},
   "outputs": [
    {
     "data": {
      "text/plain": [
       "Text(0, 0.5, 'coefficients value')"
      ]
     },
     "execution_count": 49,
     "metadata": {},
     "output_type": "execute_result"
    },
    {
     "data": {
      "image/png": "[encoded data removed]",
      "text/plain": [
       "<Figure size 432x288 with 1 Axes>"
      ]
     },
     "metadata": {
      "needs_background": "light"
     },
     "output_type": "display_data"
    }
   ],
   "source": [
    "plt.bar(range(len(coefficients)),coefficients)\n",
    "plt.xlabel('coefficients')\n",
    "plt.ylabel('coefficients value')"
   ]
  },
  {
   "cell_type": "markdown",
   "id": "6aed27b6",
   "metadata": {},
   "source": [
    "- We need regularization because as we see the bar plot for coefficients from linear regression, we can see 3 variables have the largest coefficients. This will cause these 3 variables impact the Price of the house significanlty, causing overfitting in the data. There are ways to reduce such model complexity and preventing overfitting. The process of regularization will help in feature selection with Lasso Regression Model. Lasso fits coefficients to minimize deviance and is a great for model selection to chose betas.  "
   ]
  },
  {
   "cell_type": "markdown",
   "id": "d7fe1a54",
   "metadata": {},
   "source": [
    "### Perform Lasso regression on both training and test data\n",
    "\n",
    "### Set up a Lasso regression model with specified parameters and fit it to the training data."
   ]
  },
  {
   "cell_type": "code",
   "execution_count": 50,
   "id": "d32fe2b5",
   "metadata": {},
   "outputs": [
    {
     "data": {
      "text/plain": [
       "16"
      ]
     },
     "execution_count": 50,
     "metadata": {},
     "output_type": "execute_result"
    }
   ],
   "source": [
    "#recalling numerical_cols \n",
    "len(numeric_cols)"
   ]
  },
  {
   "cell_type": "code",
   "execution_count": 51,
   "id": "f4d1a4e4",
   "metadata": {},
   "outputs": [
    {
     "data": {
      "text/plain": [
       "['Rooms',\n",
       " 'Type',\n",
       " 'Price',\n",
       " 'Method',\n",
       " 'Distance',\n",
       " 'Postcode',\n",
       " 'Bedroom2',\n",
       " 'Bathroom',\n",
       " 'Car',\n",
       " 'Landsize',\n",
       " 'YearBuilt',\n",
       " 'CouncilArea',\n",
       " 'Regionname',\n",
       " 'Propertycount',\n",
       " 'PurchaseMonth',\n",
       " 'PurchaseYear']"
      ]
     },
     "execution_count": 51,
     "metadata": {},
     "output_type": "execute_result"
    }
   ],
   "source": [
    "numeric_cols"
   ]
  },
  {
   "cell_type": "code",
   "execution_count": 52,
   "id": "8dd27537",
   "metadata": {},
   "outputs": [],
   "source": [
    "#dropping Price so it does not mess with Regression\n",
    "numeric_cols.remove('Price')"
   ]
  },
  {
   "cell_type": "code",
   "execution_count": 53,
   "id": "80337c37",
   "metadata": {},
   "outputs": [],
   "source": [
    "#Using the same Test and Train Spilt for the Lasso Model so we can compare it to Linear"
   ]
  },
  {
   "cell_type": "code",
   "execution_count": 54,
   "id": "53770301",
   "metadata": {},
   "outputs": [],
   "source": [
    "X_train = train[numeric_cols]\n",
    "X_test  = test[numeric_cols]\n",
    "\n",
    "y_train = train['Price']\n",
    "y_test  = test['Price']"
   ]
  },
  {
   "cell_type": "code",
   "execution_count": 55,
   "id": "077e4162",
   "metadata": {},
   "outputs": [],
   "source": [
    "scaler = StandardScaler()\n",
    "X_train_scaled = scaler.fit_transform(X_train)\n",
    "X_test_scaled = scaler.transform(X_test)"
   ]
  },
  {
   "cell_type": "code",
   "execution_count": 56,
   "id": "4fefd27d",
   "metadata": {},
   "outputs": [
    {
     "data": {
      "text/html": [
       "<style>#sk-container-id-2 {color: black;}#sk-container-id-2 pre{padding: 0;}#sk-container-id-2 div.sk-toggleable {background-color: white;}#sk-container-id-2 label.sk-toggleable__label {cursor: pointer;display: block;width: 100%;margin-bottom: 0;padding: 0.3em;box-sizing: border-box;text-align: center;}#sk-container-id-2 label.sk-toggleable__label-arrow:before {content: \"▸\";float: left;margin-right: 0.25em;color: #696969;}#sk-container-id-2 label.sk-toggleable__label-arrow:hover:before {color: black;}#sk-container-id-2 div.sk-estimator:hover label.sk-toggleable__label-arrow:before {color: black;}#sk-container-id-2 div.sk-toggleable__content {max-height: 0;max-width: 0;overflow: hidden;text-align: left;background-color: #f0f8ff;}#sk-container-id-2 div.sk-toggleable__content pre {margin: 0.2em;color: black;border-radius: 0.25em;background-color: #f0f8ff;}#sk-container-id-2 input.sk-toggleable__control:checked~div.sk-toggleable__content {max-height: 200px;max-width: 100%;overflow: auto;}#sk-container-id-2 input.sk-toggleable__control:checked~label.sk-toggleable__label-arrow:before {content: \"▾\";}#sk-container-id-2 div.sk-estimator input.sk-toggleable__control:checked~label.sk-toggleable__label {background-color: #d4ebff;}#sk-container-id-2 div.sk-label input.sk-toggleable__control:checked~label.sk-toggleable__label {background-color: #d4ebff;}#sk-container-id-2 input.sk-hidden--visually {border: 0;clip: rect(1px 1px 1px 1px);clip: rect(1px, 1px, 1px, 1px);height: 1px;margin: -1px;overflow: hidden;padding: 0;position: absolute;width: 1px;}#sk-container-id-2 div.sk-estimator {font-family: monospace;background-color: #f0f8ff;border: 1px dotted black;border-radius: 0.25em;box-sizing: border-box;margin-bottom: 0.5em;}#sk-container-id-2 div.sk-estimator:hover {background-color: #d4ebff;}#sk-container-id-2 div.sk-parallel-item::after {content: \"\";width: 100%;border-bottom: 1px solid gray;flex-grow: 1;}#sk-container-id-2 div.sk-label:hover label.sk-toggleable__label {background-color: #d4ebff;}#sk-container-id-2 div.sk-serial::before {content: \"\";position: absolute;border-left: 1px solid gray;box-sizing: border-box;top: 0;bottom: 0;left: 50%;z-index: 0;}#sk-container-id-2 div.sk-serial {display: flex;flex-direction: column;align-items: center;background-color: white;padding-right: 0.2em;padding-left: 0.2em;position: relative;}#sk-container-id-2 div.sk-item {position: relative;z-index: 1;}#sk-container-id-2 div.sk-parallel {display: flex;align-items: stretch;justify-content: center;background-color: white;position: relative;}#sk-container-id-2 div.sk-item::before, #sk-container-id-2 div.sk-parallel-item::before {content: \"\";position: absolute;border-left: 1px solid gray;box-sizing: border-box;top: 0;bottom: 0;left: 50%;z-index: -1;}#sk-container-id-2 div.sk-parallel-item {display: flex;flex-direction: column;z-index: 1;position: relative;background-color: white;}#sk-container-id-2 div.sk-parallel-item:first-child::after {align-self: flex-end;width: 50%;}#sk-container-id-2 div.sk-parallel-item:last-child::after {align-self: flex-start;width: 50%;}#sk-container-id-2 div.sk-parallel-item:only-child::after {width: 0;}#sk-container-id-2 div.sk-dashed-wrapped {border: 1px dashed gray;margin: 0 0.4em 0.5em 0.4em;box-sizing: border-box;padding-bottom: 0.4em;background-color: white;}#sk-container-id-2 div.sk-label label {font-family: monospace;font-weight: bold;display: inline-block;line-height: 1.2em;}#sk-container-id-2 div.sk-label-container {text-align: center;}#sk-container-id-2 div.sk-container {/* jupyter's `normalize.less` sets `[hidden] { display: none; }` but bootstrap.min.css set `[hidden] { display: none !important; }` so we also need the `!important` here to be able to override the default hidden behavior on the sphinx rendered scikit-learn.org. See: https://github.com/scikit-learn/scikit-learn/issues/21755 */display: inline-block !important;position: relative;}#sk-container-id-2 div.sk-text-repr-fallback {display: none;}</style><div id=\"sk-container-id-2\" class=\"sk-top-container\"><div class=\"sk-text-repr-fallback\"><pre>Lasso(alpha=2154.43)</pre><b>In a Jupyter environment, please rerun this cell to show the HTML representation or trust the notebook. <br />On GitHub, the HTML representation is unable to render, please try loading this page with nbviewer.org.</b></div><div class=\"sk-container\" hidden><div class=\"sk-item\"><div class=\"sk-estimator sk-toggleable\"><input class=\"sk-toggleable__control sk-hidden--visually\" id=\"sk-estimator-id-2\" type=\"checkbox\" checked><label for=\"sk-estimator-id-2\" class=\"sk-toggleable__label sk-toggleable__label-arrow\">Lasso</label><div class=\"sk-toggleable__content\"><pre>Lasso(alpha=2154.43)</pre></div></div></div></div></div>"
      ],
      "text/plain": [
       "Lasso(alpha=2154.43)"
      ]
     },
     "execution_count": 56,
     "metadata": {},
     "output_type": "execute_result"
    }
   ],
   "source": [
    "lasso = Lasso(alpha=2154.43)\n",
    "lasso.fit(X_train_scaled, y_train)"
   ]
  },
  {
   "cell_type": "code",
   "execution_count": 57,
   "id": "21e70a94",
   "metadata": {},
   "outputs": [],
   "source": [
    "y_pred_lasso = lasso.predict(X_test_scaled)"
   ]
  },
  {
   "cell_type": "code",
   "execution_count": 58,
   "id": "d5319cae",
   "metadata": {},
   "outputs": [
    {
     "name": "stdout",
     "output_type": "stream",
     "text": [
      "Lasso coefficients: [ 202301.98084919 -165485.08793216  -25625.42907189 -289874.11894545\n",
      "  160442.30387321  -79102.04555546  193017.03008491   82711.29462989\n",
      "   17137.86703901 -110896.07911217  -85567.71871453   39333.4990628\n",
      "   18347.08219291    8400.79993075    4908.43647431]\n",
      "Intercept: 1024275.2747252735\n"
     ]
    }
   ],
   "source": [
    "print(\"Lasso coefficients:\", lasso.coef_)\n",
    "print(\"Intercept:\", lasso.intercept_)"
   ]
  },
  {
   "cell_type": "code",
   "execution_count": 59,
   "id": "8e6ad99f",
   "metadata": {},
   "outputs": [
    {
     "name": "stdout",
     "output_type": "stream",
     "text": [
      "118\n",
      "118\n"
     ]
    }
   ],
   "source": [
    "print(len(y_pred_lasso))\n",
    "print(len(y_test))"
   ]
  },
  {
   "cell_type": "code",
   "execution_count": 60,
   "id": "af454d39",
   "metadata": {},
   "outputs": [
    {
     "name": "stdout",
     "output_type": "stream",
     "text": [
      "MSE: 247135416763.29816\n",
      "R^2: 0.49759909030841476\n"
     ]
    }
   ],
   "source": [
    "mse = mean_squared_error(y_test, y_pred_lasso)\n",
    "r2 = r2_score(y_test, y_pred_lasso)\n",
    "print(\"MSE:\", mse)\n",
    "print(\"R^2:\", r2)"
   ]
  },
  {
   "cell_type": "code",
   "execution_count": 61,
   "id": "fa99c4ec",
   "metadata": {},
   "outputs": [],
   "source": [
    "alphas = np.logspace(-6, 6, 10)\n",
    "k = 5\n",
    "n = len(y_train)\n",
    "\n",
    "# Shuffle the data\n",
    "indices = np.arange(n)\n",
    "np.random.shuffle(indices)\n",
    "X_cv = X_train_scaled[indices]\n",
    "y_cv = y_train.iloc[indices]"
   ]
  },
  {
   "cell_type": "code",
   "execution_count": 62,
   "id": "647399c3",
   "metadata": {},
   "outputs": [
    {
     "name": "stdout",
     "output_type": "stream",
     "text": [
      "Best alpha: 2154.434690031878\n"
     ]
    }
   ],
   "source": [
    "avg_rmse=[]\n",
    "for alpha in alphas:\n",
    "    rmse_list = []\n",
    "    \n",
    "    # Manual k-fold splitting\n",
    "    for fold in range(k):\n",
    "        # Calculate the size of each fold\n",
    "        fold_size = n // k\n",
    "        \n",
    "        # Define the start and end indices of the test set\n",
    "        start, end = fold * fold_size, (fold + 1) * fold_size\n",
    "        \n",
    "        test_indices = indices[start:end]\n",
    "        train_indices = np.concatenate((indices[:start], indices[end:]))\n",
    "        \n",
    "        X_train, X_test = X_cv[train_indices], X_cv[test_indices]\n",
    "        y_train, y_test = y_cv.iloc[train_indices], y_cv.iloc[test_indices]\n",
    "        \n",
    "        lasso = Lasso(alpha=alpha)\n",
    "        \n",
    "        lasso.fit(X_train, y_train)\n",
    "        \n",
    "        y_pred = lasso.predict(X_test)\n",
    "        rmse = np.sqrt(mean_squared_error(y_test, y_pred))\n",
    "        \n",
    "        rmse_list.append(rmse)\n",
    "        \n",
    "    avg_rmse.append(np.mean(rmse_list))\n",
    "\n",
    "# Find the best alpha\n",
    "best_alpha = alphas[np.argmin(avg_rmse)]\n",
    "print(f\"Best alpha: {best_alpha}\")"
   ]
  },
  {
   "cell_type": "markdown",
   "id": "b7ff9962",
   "metadata": {},
   "source": [
    "- The best alpha is 2154.43 and so I use that to run my Lasso"
   ]
  },
  {
   "cell_type": "markdown",
   "id": "19fe7d53",
   "metadata": {},
   "source": [
    "### Analyze and explain how the results change from previous answer."
   ]
  },
  {
   "cell_type": "markdown",
   "id": "495ff490",
   "metadata": {},
   "source": [
    "- The Lasso regression model has a relatively high mean squared error (MSE) of higher and a moderate explanatory power with an R-squared (R^2) value of 0.4975990903. This R^2 value is very similar to simple linear regression. This suggests some level of inaccuracy in predicting housing prices, indicating room for improvement in model performance."
   ]
  },
  {
   "cell_type": "markdown",
   "id": "f1eae7dd",
   "metadata": {},
   "source": [
    "## Out-of-sample performance \n",
    "\n",
    "### Ignore all previously trained models.\n",
    "\n",
    "### Split the data into a new training and test 80-20.\n",
    "\n",
    "### Newly train (fit) the linear regression model on the training data."
   ]
  },
  {
   "cell_type": "code",
   "execution_count": 63,
   "id": "99691c70",
   "metadata": {},
   "outputs": [],
   "source": [
    "#### Split the data into a new training and test 80-20\n",
    "X_train, X_test, Y_train, Y_test = train_test_split(X, y, train_size = 0.8)\n",
    "# Fit a new linear regression model on training data\n",
    "linear = sm.OLS(Y_train, X_train).fit()"
   ]
  },
  {
   "cell_type": "markdown",
   "id": "3f946a07",
   "metadata": {},
   "source": [
    "### Newly train (fit) the lasso regression model on the training data."
   ]
  },
  {
   "cell_type": "code",
   "execution_count": 64,
   "id": "cbb9a00b",
   "metadata": {},
   "outputs": [
    {
     "data": {
      "text/html": [
       "<style>#sk-container-id-3 {color: black;}#sk-container-id-3 pre{padding: 0;}#sk-container-id-3 div.sk-toggleable {background-color: white;}#sk-container-id-3 label.sk-toggleable__label {cursor: pointer;display: block;width: 100%;margin-bottom: 0;padding: 0.3em;box-sizing: border-box;text-align: center;}#sk-container-id-3 label.sk-toggleable__label-arrow:before {content: \"▸\";float: left;margin-right: 0.25em;color: #696969;}#sk-container-id-3 label.sk-toggleable__label-arrow:hover:before {color: black;}#sk-container-id-3 div.sk-estimator:hover label.sk-toggleable__label-arrow:before {color: black;}#sk-container-id-3 div.sk-toggleable__content {max-height: 0;max-width: 0;overflow: hidden;text-align: left;background-color: #f0f8ff;}#sk-container-id-3 div.sk-toggleable__content pre {margin: 0.2em;color: black;border-radius: 0.25em;background-color: #f0f8ff;}#sk-container-id-3 input.sk-toggleable__control:checked~div.sk-toggleable__content {max-height: 200px;max-width: 100%;overflow: auto;}#sk-container-id-3 input.sk-toggleable__control:checked~label.sk-toggleable__label-arrow:before {content: \"▾\";}#sk-container-id-3 div.sk-estimator input.sk-toggleable__control:checked~label.sk-toggleable__label {background-color: #d4ebff;}#sk-container-id-3 div.sk-label input.sk-toggleable__control:checked~label.sk-toggleable__label {background-color: #d4ebff;}#sk-container-id-3 input.sk-hidden--visually {border: 0;clip: rect(1px 1px 1px 1px);clip: rect(1px, 1px, 1px, 1px);height: 1px;margin: -1px;overflow: hidden;padding: 0;position: absolute;width: 1px;}#sk-container-id-3 div.sk-estimator {font-family: monospace;background-color: #f0f8ff;border: 1px dotted black;border-radius: 0.25em;box-sizing: border-box;margin-bottom: 0.5em;}#sk-container-id-3 div.sk-estimator:hover {background-color: #d4ebff;}#sk-container-id-3 div.sk-parallel-item::after {content: \"\";width: 100%;border-bottom: 1px solid gray;flex-grow: 1;}#sk-container-id-3 div.sk-label:hover label.sk-toggleable__label {background-color: #d4ebff;}#sk-container-id-3 div.sk-serial::before {content: \"\";position: absolute;border-left: 1px solid gray;box-sizing: border-box;top: 0;bottom: 0;left: 50%;z-index: 0;}#sk-container-id-3 div.sk-serial {display: flex;flex-direction: column;align-items: center;background-color: white;padding-right: 0.2em;padding-left: 0.2em;position: relative;}#sk-container-id-3 div.sk-item {position: relative;z-index: 1;}#sk-container-id-3 div.sk-parallel {display: flex;align-items: stretch;justify-content: center;background-color: white;position: relative;}#sk-container-id-3 div.sk-item::before, #sk-container-id-3 div.sk-parallel-item::before {content: \"\";position: absolute;border-left: 1px solid gray;box-sizing: border-box;top: 0;bottom: 0;left: 50%;z-index: -1;}#sk-container-id-3 div.sk-parallel-item {display: flex;flex-direction: column;z-index: 1;position: relative;background-color: white;}#sk-container-id-3 div.sk-parallel-item:first-child::after {align-self: flex-end;width: 50%;}#sk-container-id-3 div.sk-parallel-item:last-child::after {align-self: flex-start;width: 50%;}#sk-container-id-3 div.sk-parallel-item:only-child::after {width: 0;}#sk-container-id-3 div.sk-dashed-wrapped {border: 1px dashed gray;margin: 0 0.4em 0.5em 0.4em;box-sizing: border-box;padding-bottom: 0.4em;background-color: white;}#sk-container-id-3 div.sk-label label {font-family: monospace;font-weight: bold;display: inline-block;line-height: 1.2em;}#sk-container-id-3 div.sk-label-container {text-align: center;}#sk-container-id-3 div.sk-container {/* jupyter's `normalize.less` sets `[hidden] { display: none; }` but bootstrap.min.css set `[hidden] { display: none !important; }` so we also need the `!important` here to be able to override the default hidden behavior on the sphinx rendered scikit-learn.org. See: https://github.com/scikit-learn/scikit-learn/issues/21755 */display: inline-block !important;position: relative;}#sk-container-id-3 div.sk-text-repr-fallback {display: none;}</style><div id=\"sk-container-id-3\" class=\"sk-top-container\"><div class=\"sk-text-repr-fallback\"><pre>Lasso(alpha=2154)</pre><b>In a Jupyter environment, please rerun this cell to show the HTML representation or trust the notebook. <br />On GitHub, the HTML representation is unable to render, please try loading this page with nbviewer.org.</b></div><div class=\"sk-container\" hidden><div class=\"sk-item\"><div class=\"sk-estimator sk-toggleable\"><input class=\"sk-toggleable__control sk-hidden--visually\" id=\"sk-estimator-id-3\" type=\"checkbox\" checked><label for=\"sk-estimator-id-3\" class=\"sk-toggleable__label sk-toggleable__label-arrow\">Lasso</label><div class=\"sk-toggleable__content\"><pre>Lasso(alpha=2154)</pre></div></div></div></div></div>"
      ],
      "text/plain": [
       "Lasso(alpha=2154)"
      ]
     },
     "execution_count": 64,
     "metadata": {},
     "output_type": "execute_result"
    }
   ],
   "source": [
    "# Fit a new Lasso regression model\n",
    "scaler = StandardScaler()\n",
    "X_train_scaled = scaler.fit_transform(X_train)\n",
    "X_test_scaled = scaler.transform(X_test) \n",
    "\n",
    "lasso = Lasso(alpha=2154) #alpha\n",
    "lasso.fit(X_train_scaled, Y_train)"
   ]
  },
  {
   "cell_type": "markdown",
   "id": "e190fa2d",
   "metadata": {},
   "source": [
    "### Estimate AIC, AICc, BIC, as well as 5-fold CV for both models using only the training data."
   ]
  },
  {
   "cell_type": "code",
   "execution_count": 65,
   "id": "3b811583",
   "metadata": {},
   "outputs": [
    {
     "name": "stdout",
     "output_type": "stream",
     "text": [
      "MSE for Linear Regression on training data is 213373788880.70718.\n",
      "AIC for LR is 6277.254538239869\n",
      "AICc LR is 6279.9476075468\n",
      "BIC LR is 6328.021964181706\n"
     ]
    }
   ],
   "source": [
    "aic = linear.aic\n",
    "bic = linear.bic\n",
    "n_obs = len(y_train)\n",
    "n_parameter = linear.df_model + 1\n",
    "aicc = aic + (2 * n_parameter * (n_parameter+1))/(n_obs - n_parameter - 1)\n",
    "\n",
    "# 5-fold cv\n",
    "fold_5 = KFold(n_splits=5, shuffle = True, random_state= 12)\n",
    "model_MSE = cross_val_score(LinearRegression(), X_train, Y_train, cv = fold_5, scoring = make_scorer(mean_squared_error))\n",
    "model_MSE = np.mean(model_MSE)\n",
    "\n",
    "\n",
    "print(f'MSE for Linear Regression on training data is {model_MSE}.')\n",
    "print(f'AIC for LR is {aic}') \n",
    "print(f'AICc LR is {aicc}') \n",
    "print(f'BIC LR is {bic}') "
   ]
  },
  {
   "cell_type": "code",
   "execution_count": 66,
   "id": "3100b401",
   "metadata": {},
   "outputs": [
    {
     "name": "stdout",
     "output_type": "stream",
     "text": [
      "MSE for Lasso Regression on training data is 211771835408.18613.\n",
      "AIC for Lasso LR is 8610.738951513209\n",
      "AICc for Lasso LR is 8613.432020820139\n",
      "BIC for Lasso LR is 8664.964099190272\n"
     ]
    }
   ],
   "source": [
    "# Calculate AIC, AICc, BIC, and 5-fold CV for the Lasso regression model using only the training data. \n",
    "#Additionally, manually compute AIC, AICc, BIC, and MSE from the training data\n",
    "\n",
    "y_pred = lasso.predict(X_train)\n",
    "sse = np.sum((y_pred - Y_train)**2)\n",
    "k = len(lasso.coef_) + 1\n",
    "n = len(y_train)\n",
    "\n",
    "aic_lasso = n * np.log(sse / n) + 2 * k\n",
    "aicc_lasso = aic_lasso + (2 * k * (k + 1)) / (n - k - 1)\n",
    "bic_lasso = n * np.log(sse / n) + k * np.log(n)\n",
    "\n",
    "# 5-fold cv\n",
    "fold_5 = KFold(n_splits=5, shuffle = True, random_state= 12)\n",
    "model_lasso_MSE = cross_val_score(lasso, X_train, Y_train, cv = fold_5, scoring = make_scorer(mean_squared_error))\n",
    "model_lasso_MSE = np.mean(model_lasso_MSE)\n",
    "\n",
    "print(f'MSE for Lasso Regression on training data is {model_lasso_MSE}.')\n",
    "print(f'AIC for Lasso LR is {aic_lasso}') \n",
    "print(f'AICc for Lasso LR is {aicc_lasso}') \n",
    "print(f'BIC for Lasso LR is {bic_lasso}') "
   ]
  },
  {
   "cell_type": "markdown",
   "id": "0d41875b",
   "metadata": {},
   "source": [
    "- In terms of the training data evaluation metrics, Linear Regression appears to be a better choice. Linear Regression exhibits a lower MSE and more favorable values for information criteria metrics— AIC, AICc, and BIC. These lower information criteria values in Linear Regression suggest that it achieves a good balance between model fit and complexity, indicating a potentially better fit to the training data compared to Lasso Regression. In all fairness, both models have overall bad performance which could relate to data and the presence of a large number of missing values, coupled with potential issues such as outliers, may have negatively impacted the reliability of the models. "
   ]
  },
  {
   "cell_type": "markdown",
   "id": "c0b36e69",
   "metadata": {},
   "source": [
    "### Estimate the models true OOS performance by computing their deviance on the test data.\n",
    "\n",
    "### Compare all (deviance) values. Which IC is most similar to the models’ true OOS performance? How does 5-fold CV compare? Explain."
   ]
  },
  {
   "cell_type": "code",
   "execution_count": 67,
   "id": "36c4d4cd",
   "metadata": {},
   "outputs": [],
   "source": [
    "def deviance(y, pred, family=\"gaussian\"):\n",
    "    if family == \"gaussian\":\n",
    "        return np.sum((y - pred) ** 2)\n",
    "    elif family == \"binomial\":\n",
    "        y = np.array(y)\n",
    "        pred = np.array(pred)\n",
    "        return -2 * np.sum(y * np.log(pred) + (1 - y) * np.log(1 - pred))"
   ]
  },
  {
   "cell_type": "code",
   "execution_count": 68,
   "id": "44888ef4",
   "metadata": {},
   "outputs": [
    {
     "name": "stdout",
     "output_type": "stream",
     "text": [
      "The deviance on the test data for Linear regression model is 5230134324031.939. \n",
      "\n",
      "The deviance on the test data for Lasso regression model is 5.336638751892325e+18.\n"
     ]
    }
   ],
   "source": [
    "# OOS performance by computing their deviance on the test data\n",
    "\n",
    "# linear regression model\n",
    "y_pred_test_linear = linear.predict(X_test)\n",
    "linear_model_deviance = deviance(Y_test, y_pred_test_linear)\n",
    "\n",
    "# lasso regression model\n",
    "y_pred_test_lasso = lasso.predict(X_test)\n",
    "lasso_model_deviance = deviance(Y_test, y_pred_test_lasso)\n",
    "\n",
    "print(f'The deviance on the test data for Linear regression model is {linear_model_deviance}.','\\n')\n",
    "print(f'The deviance on the test data for Lasso regression model is {lasso_model_deviance}.')"
   ]
  },
  {
   "cell_type": "markdown",
   "id": "ceacc4d3",
   "metadata": {},
   "source": [
    "- The deviance values on the OOS test data further highlight the challenges in model fit and performance. For the Linear regression model, the deviance is indicating substantial issues between the predicted and actual values. The Lasso regression model exhibits an even more significant deviance. These results suggest potential issues with both models' ability to accurately capture the underlying patterns in the data. "
   ]
  }
 ],
 "metadata": {
  "kernelspec": {
   "display_name": "Python 3",
   "language": "python",
   "name": "python3"
  },
  "language_info": {
   "codemirror_mode": {
    "name": "ipython",
    "version": 3
   },
   "file_extension": ".py",
   "mimetype": "text/x-python",
   "name": "python",
   "nbconvert_exporter": "python",
   "pygments_lexer": "ipython3",
   "version": "3.8.8"
  }
 },
 "nbformat": 4,
 "nbformat_minor": 5
}
